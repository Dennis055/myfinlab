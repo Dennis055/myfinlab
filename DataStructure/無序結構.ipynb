{
 "cells": [
  {
   "cell_type": "code",
   "execution_count": 3,
   "metadata": {},
   "outputs": [],
   "source": [
    "class Node:\n",
    "    def __init__(self , data):\n",
    "        self.data = data\n",
    "        self.next = None\n",
    "    def getData(self):\n",
    "        return self.data\n",
    "\n",
    "    def getNext(self):\n",
    "        return self.next\n",
    "\n",
    "    def setData(self,newdata):\n",
    "        self.data = newdata\n",
    "\n",
    "    def setNext(self,newnext):\n",
    "        self.next = newnext\n",
    "    def isEmpty(self):\n",
    "        return "
   ]
  },
  {
   "cell_type": "code",
   "execution_count": 4,
   "metadata": {},
   "outputs": [
    {
     "data": {
      "text/plain": [
       "93"
      ]
     },
     "execution_count": 4,
     "metadata": {},
     "output_type": "execute_result"
    }
   ],
   "source": [
    "temp = Node(93)\n",
    "temp.getData()"
   ]
  },
  {
   "cell_type": "markdown",
   "metadata": {},
   "source": [
    "基本數據結構實作"
   ]
  },
  {
   "cell_type": "code",
   "execution_count": 25,
   "metadata": {},
   "outputs": [],
   "source": [
    "class UnorderList:\n",
    "    def __init__(self):\n",
    "        self.head  = None\n",
    "    def isEmpty(self):\n",
    "        return self.head==None\n",
    "    def add(self , ele): #從前面新增的東西\n",
    "        temp = Node(ele)\n",
    "        temp.setNext(self.head)\n",
    "        self.head = temp\n",
    "    def size(self):\n",
    "        count = 0\n",
    "        current =self.head\n",
    "        while current != None:\n",
    "            count += 1\n",
    "            current = current.getNext()\n",
    "        return count\n",
    "    def search(self , item):   #有沒有找到這樣\n",
    "        current = self.head\n",
    "        found = False\n",
    "        while current != None and not found:\n",
    "            if current.getData()==item:\n",
    "                found = True\n",
    "            else:\n",
    "                current = current.getNext()\n",
    "        return found\n",
    "    def remove(self,item):\n",
    "        current = self.head\n",
    "        found = False\n",
    "        previous = None\n",
    "        while not found:\n",
    "            if current.getData()== item:\n",
    "                found = True\n",
    "            else:\n",
    "                previous = current\n",
    "                current  = current.getNext()\n",
    "        if previous==None: #也就是假若說第一個就是我們要移除的，直接更改head吧\n",
    "            self.head = current.getNext()\n",
    "        else:\n",
    "            previous.setNext(current.getNext())   \n",
    "            "
   ]
  },
  {
   "cell_type": "code",
   "execution_count": 27,
   "metadata": {},
   "outputs": [
    {
     "data": {
      "text/plain": [
       "3"
      ]
     },
     "execution_count": 27,
     "metadata": {},
     "output_type": "execute_result"
    }
   ],
   "source": [
    "mylist = UnorderList()\n",
    "mylist.add(31)\n",
    "mylist.add(30)\n",
    "mylist.add(29)\n",
    "mylist.add(28)\n",
    "mylist.size()\n",
    "mylist.remove(31)\n",
    "mylist.size()"
   ]
  }
 ],
 "metadata": {
  "kernelspec": {
   "display_name": "Python 3",
   "language": "python",
   "name": "python3"
  },
  "language_info": {
   "codemirror_mode": {
    "name": "ipython",
    "version": 3
   },
   "file_extension": ".py",
   "mimetype": "text/x-python",
   "name": "python",
   "nbconvert_exporter": "python",
   "pygments_lexer": "ipython3",
   "version": "3.6.5"
  }
 },
 "nbformat": 4,
 "nbformat_minor": 2
}
