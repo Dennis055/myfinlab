{
 "cells": [
  {
   "cell_type": "code",
   "execution_count": 1,
   "metadata": {},
   "outputs": [],
   "source": [
    "def crawl_stock_index(date):\n",
    "    import datetime\n",
    "    import pandas as pd\n",
    "\n",
    "    # 將 date 變成字串 舉例：'20180525'\n",
    "    datestr = date.strftime('%Y%m%d')\n",
    "\n",
    "    # 從網站上依照 datestr 將指定日期的類股指數抓下來http://www.twse.com.tw/exchangeReport/MI_INDEX?response=html&date=20180801\n",
    "    try:  \n",
    "      dfs = pd.read_html('http://www.twse.com.tw/exchangeReport/MI_INDEX?response=html&date=' + datestr, encoding = 'utf-8')\n",
    "    except:\n",
    "      return None\n",
    "    else:\n",
    "      df = dfs[0]\n",
    "      \n",
    "\n",
    "    # 將第一層column index移除\n",
    "    df.columns = df.columns.droplevel()\n",
    "    \n",
    "    # 將指數設成index\n",
    "    df = df.set_index(['指數'])\n",
    "\n",
    "    # 刪除不必要的欄位\n",
    "    df = df.drop(['漲跌(+/-)', '漲跌點數', '漲跌百分比(%)'], axis=1)\n",
    "\n",
    "    # 欄換成列\n",
    "    df = df.transpose()\n",
    "\n",
    "    # 將爬取的日期存入 dataframe\n",
    "    df['date'] = pd.to_datetime(date)\n",
    "\n",
    "    # 將「date」設定成index \n",
    "    df = df.set_index(['date'])\n",
    "    \n",
    "\n",
    "    return df"
   ]
  },
  {
   "cell_type": "code",
   "execution_count": 5,
   "metadata": {},
   "outputs": [
    {
     "name": "stdout",
     "output_type": "stream",
     "text": [
      "指數            寶島股價指數  發行量加權股價指數  臺灣公司治理100指數   臺灣50指數  臺灣中型100指數  臺灣資訊科技指數  \\\n",
      "date                                                                         \n",
      "2018-10-01  12583.36   11051.80      6394.35  8483.05    7784.98  10867.65   \n",
      "2018-10-08  11885.79   10455.93      6044.57  8014.67    7343.96  10108.10   \n",
      "\n",
      "指數           臺灣發達指數  臺灣高股息指數   臺灣永續指數  臺灣就業99指數      ...       金融保險類指數  \\\n",
      "date                                                 ...                 \n",
      "2018-10-01  8832.98  6039.50  5456.93   6572.79      ...       1312.96   \n",
      "2018-10-08  8358.63  5788.66  5174.77   6308.53      ...       1284.21   \n",
      "\n",
      "指數          貿易百貨類指數  油電燃氣類指數   其他類指數  臺指日報酬兩倍指數  臺指日報酬反向一倍指數  電子類兩倍槓桿指數  \\\n",
      "date                                                                      \n",
      "2018-10-01   276.60   185.58  246.89   17470.51      7072.29   12933.06   \n",
      "2018-10-08   264.27   166.95  237.70   15625.56      7469.84   11241.04   \n",
      "\n",
      "指數          電子類反向指數  金融類日報酬兩倍指數  金融類日報酬反向一倍指數  \n",
      "date                                           \n",
      "2018-10-01  7839.22    21240.57       6477.34  \n",
      "2018-10-08  8393.72    20315.40       6620.70  \n",
      "\n",
      "[2 rows x 72 columns]\n"
     ]
    },
    {
     "data": {
      "text/plain": [
       "pandas.core.frame.DataFrame"
      ]
     },
     "execution_count": 5,
     "metadata": {},
     "output_type": "execute_result"
    }
   ],
   "source": [
    "import datetime\n",
    "\n",
    "realt1 = crawl_stock_index(date=datetime.datetime(2018,10,1))\n",
    "realt2 = crawl_stock_index(date = datetime.datetime(2018,10,8))\n",
    "realt1 = realt1.append(realt2)\n",
    "print(realt1)\n",
    "type(realt1)"
   ]
  }
 ],
 "metadata": {
  "kernelspec": {
   "display_name": "Python 3",
   "language": "python",
   "name": "python3"
  },
  "language_info": {
   "codemirror_mode": {
    "name": "ipython",
    "version": 3
   },
   "file_extension": ".py",
   "mimetype": "text/x-python",
   "name": "python",
   "nbconvert_exporter": "python",
   "pygments_lexer": "ipython3",
   "version": "3.6.5"
  }
 },
 "nbformat": 4,
 "nbformat_minor": 2
}
