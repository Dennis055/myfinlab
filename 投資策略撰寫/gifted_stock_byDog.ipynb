{
 "cells": [
  {
   "cell_type": "code",
   "execution_count": 1,
   "metadata": {},
   "outputs": [],
   "source": [
    "from finlab.data import Data\n",
    "data  = Data()"
   ]
  },
  {
   "cell_type": "code",
   "execution_count": 2,
   "metadata": {},
   "outputs": [],
   "source": [
    "# capital = data.get('股本合計',1)\n",
    "# price = data.get('收盤價',100)\n",
    "# # 先拿出計算市值需要用到的財務數據\n",
    "\n",
    "股本 = data.get('股本合計', 1)\n",
    "price = data.get('收盤價', 100)"
   ]
  },
  {
   "cell_type": "code",
   "execution_count": 3,
   "metadata": {},
   "outputs": [
    {
     "data": {
      "text/plain": [
       "151388045850.0"
      ]
     },
     "execution_count": 3,
     "metadata": {},
     "output_type": "execute_result"
    }
   ],
   "source": [
    "today_price = price.iloc[-1]\n",
    "today_capital = 股本.iloc[-1]\n",
    "市值 = today_capital * 1000 / 10 * today_price\n",
    "市值['1101']"
   ]
  },
  {
   "cell_type": "markdown",
   "metadata": {},
   "source": [
    "## 淨現金流"
   ]
  },
  {
   "cell_type": "code",
   "execution_count": 4,
   "metadata": {},
   "outputs": [
    {
     "data": {
      "text/plain": [
       "count    9.100000e+02\n",
       "mean     8.782937e+05\n",
       "std      1.373999e+07\n",
       "min     -1.384047e+08\n",
       "25%     -2.336472e+05\n",
       "50%      5.947900e+04\n",
       "75%      5.468518e+05\n",
       "max      2.846422e+08\n",
       "dtype: float64"
      ]
     },
     "execution_count": 4,
     "metadata": {},
     "output_type": "execute_result"
    }
   ],
   "source": [
    "import pandas as pd\n",
    "\n",
    "# 將每季累計的財務數據，轉換成單季\n",
    "def toSeasonal(df):\n",
    "    season4 = df[df.index.month == 3]\n",
    "    season1 = df[df.index.month == 5]\n",
    "    season2 = df[df.index.month == 8]\n",
    "    season3 = df[df.index.month == 11]\n",
    "\n",
    "    season1.index = season1.index.year\n",
    "    season2.index = season2.index.year\n",
    "    season3.index = season3.index.year\n",
    "    season4.index = season4.index.year - 1\n",
    "\n",
    "    newseason1 = season1\n",
    "    newseason2 = season2 - season1.reindex_like(season2)\n",
    "    newseason3 = season3 - season2.reindex_like(season3)\n",
    "    newseason4 = season4 - season3.reindex_like(season4)\n",
    "\n",
    "    newseason1.index = pd.to_datetime(newseason1.index.astype(str) + '-05-15')\n",
    "    newseason2.index = pd.to_datetime(newseason2.index.astype(str) + '-08-14')\n",
    "    newseason3.index = pd.to_datetime(newseason3.index.astype(str) + '-11-14')\n",
    "    newseason4.index = pd.to_datetime((newseason4.index + 1).astype(str) + '-03-31')\n",
    "\n",
    "    return newseason1.append(newseason2).append(newseason3).append(newseason4).sort_index()\n",
    "    \n",
    "# 計算自由現金流 = 營業活動之淨現金流入 - 投資活動之淨現金流出\n",
    "投資現金流 = toSeasonal(data.get('投資活動之淨現金流入（流出）', 8))\n",
    "營業現金流 = toSeasonal(data.get('營業活動之淨現金流入（流出）', 8))\n",
    "自由現金流 = (投資現金流 + 營業現金流).iloc[-4:].sum()\n",
    "自由現金流.describe()"
   ]
  },
  {
   "cell_type": "markdown",
   "metadata": {},
   "source": [
    "##  股東權益報酬率"
   ]
  },
  {
   "cell_type": "code",
   "execution_count": 5,
   "metadata": {},
   "outputs": [
    {
     "data": {
      "text/plain": [
       "count    822.000000\n",
       "mean       0.005171\n",
       "std        0.065844\n",
       "min       -1.271047\n",
       "25%       -0.003242\n",
       "50%        0.010549\n",
       "75%        0.025966\n",
       "max        0.309793\n",
       "Name: 2017-05-15 00:00:00, dtype: float64"
      ]
     },
     "execution_count": 5,
     "metadata": {},
     "output_type": "execute_result"
    }
   ],
   "source": [
    "稅後淨利 = data.get('本期淨利（淨損）', 5)\n",
    "\n",
    "# 修正：因為有些股東權益的名稱叫作「權益總計」有些叫作「權益總額」，所以要先將這兩個dataframe合併起來喔！\n",
    "權益總計 = data.get('權益總計', 5)\n",
    "權益總額 = data.get('權益總額', 5)\n",
    "\n",
    "# 把它們合併起來（將「權益總計」為NaN的部分填上「權益總額」）\n",
    "權益總計.fillna(權益總額, inplace=True)\n",
    "\n",
    "股東權益報酬率 = 稅後淨利.iloc[-1] / 權益總計.iloc[-1]\n",
    "股東權益報酬率.describe()\n",
    "\n",
    "上季股東權益報酬率 = 稅後淨利.iloc[-5] / 權益總計.iloc[-5]\n",
    "上季股東權益報酬率.describe()"
   ]
  },
  {
   "cell_type": "markdown",
   "metadata": {},
   "source": [
    "## 營收成長率"
   ]
  },
  {
   "cell_type": "code",
   "execution_count": 6,
   "metadata": {},
   "outputs": [
    {
     "data": {
      "text/plain": [
       "count       801.000000\n",
       "mean       -430.477335\n",
       "std       11941.207268\n",
       "min     -313580.000000\n",
       "25%         -62.345581\n",
       "50%         -13.207170\n",
       "75%          25.081366\n",
       "max       91821.428571\n",
       "dtype: float64"
      ]
     },
     "execution_count": 6,
     "metadata": {},
     "output_type": "execute_result"
    }
   ],
   "source": [
    "營業利益 = data.get('營業利益（損失）', 5)\n",
    "營業利益成長率 = (營業利益.iloc[-1] / 營業利益.iloc[-5] - 1) * 100\n",
    "營業利益成長率.describe()"
   ]
  },
  {
   "cell_type": "markdown",
   "metadata": {},
   "source": [
    "## 市值營收比"
   ]
  },
  {
   "cell_type": "code",
   "execution_count": 7,
   "metadata": {},
   "outputs": [
    {
     "data": {
      "text/plain": [
       "count    881.000000\n",
       "mean            inf\n",
       "std             NaN\n",
       "min        0.097341\n",
       "25%        1.548699\n",
       "50%        2.657499\n",
       "75%        4.970711\n",
       "max             inf\n",
       "dtype: float64"
      ]
     },
     "execution_count": 7,
     "metadata": {},
     "output_type": "execute_result"
    }
   ],
   "source": [
    "%matplotlib inline\n",
    "當月營收 = data.get('當月營收', 4) * 1000\n",
    "當季營收 = 當月營收.iloc[-4:].sum() # 取近4個月營收總和，當作一季的月營收（4也可以改變）\n",
    "市值營收比 = 市值 / 當季營收\n",
    "市值營收比.describe()"
   ]
  },
  {
   "cell_type": "markdown",
   "metadata": {},
   "source": [
    "## 成長資料搜集"
   ]
  },
  {
   "cell_type": "code",
   "execution_count": 8,
   "metadata": {},
   "outputs": [
    {
     "data": {
      "text/plain": [
       "1.0027514171425507"
      ]
     },
     "execution_count": 8,
     "metadata": {},
     "output_type": "execute_result"
    }
   ],
   "source": [
    "# current\n",
    "流動資產 = data.get('流動資產合計',5)\n",
    "流動負債 = data.get('流動負債合計',5)\n",
    "current_ratio = 流動資產/流動負債\n",
    "# liability\n",
    "long_liability = data.get('非流動負債合計',5)\n",
    "long_liability\n",
    "\n",
    "#capital\n",
    "stocks = data.get('普通股股本',5)\n",
    "#inventory\n",
    "control_season = 2\n",
    "inventory = data.get('存貨合計',6)\n",
    "asset = data.get('資產總計',6)\n",
    "no_turnover = inventory/asset\n",
    "turnover_ratio = 1 - no_turnover\n",
    "turnover_growth_rate = (turnover_ratio.iloc[-control_season] /turnover_ratio.iloc[-control_season-4])\n",
    "turnover_growth_rate[0]"
   ]
  },
  {
   "cell_type": "code",
   "execution_count": 9,
   "metadata": {},
   "outputs": [
    {
     "data": {
      "text/plain": [
       "['2408', '4755', '9945']"
      ]
     },
     "execution_count": 9,
     "metadata": {},
     "output_type": "execute_result"
    }
   ],
   "source": [
    "condition1 = 當季營收 > 0\n",
    "condition2 = 自由現金流 >0\n",
    "condition3 = (營業現金流.iloc[-1]>0)\n",
    "condition4 = long_liability.iloc[-1] < long_liability.iloc[-5]\n",
    "condition5 = current_ratio.iloc[-1] >current_ratio.iloc[-5]\n",
    "condition6 = (stocks.iloc[-1] - stocks.iloc[-5])>0\n",
    "condition7 = 股東權益報酬率 > 上季股東權益報酬率\n",
    "condition8 = 營業利益成長率>0 #把毛益率改成營業利益率\n",
    "condition9 = turnover_growth_rate >0\n",
    "# condition10 = (price/10) > 3  \n",
    "\n",
    "# 將條件做交集（&）\n",
    "select_stock_first = condition1 & condition2 & condition3 & condition4 & condition5 \n",
    "\n",
    "select_stock_second = select_stock_first & condition6 &condition7&condition8 & condition9\n",
    "\n",
    "# 選出的股票\n",
    "select_stock = select_stock_second[select_stock_second].index\n",
    "def enter_market(select_stock,price):\n",
    "    s_list = []\n",
    "    for i in select_stock:\n",
    "        s_list.append(str(i)) #Turn index to str\n",
    "    ok_list = []\n",
    "    for s in s_list:\n",
    "        if(price[s].iloc[-1]/10) >3:\n",
    "            ok_list.append(s)\n",
    "    return ok_list\n",
    "enter_market(select_stock,price)"
   ]
  }
 ],
 "metadata": {
  "kernelspec": {
   "display_name": "Python 3",
   "language": "python",
   "name": "python3"
  },
  "language_info": {
   "codemirror_mode": {
    "name": "ipython",
    "version": 3
   },
   "file_extension": ".py",
   "mimetype": "text/x-python",
   "name": "python",
   "nbconvert_exporter": "python",
   "pygments_lexer": "ipython3",
   "version": "3.6.5"
  }
 },
 "nbformat": 4,
 "nbformat_minor": 2
}
