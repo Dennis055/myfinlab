{
 "cells": [
  {
   "cell_type": "code",
   "execution_count": 1,
   "metadata": {},
   "outputs": [],
   "source": [
    "import pandas as pd\n",
    "import numpy as np\n",
    "def strategy(data):\n",
    "    \n",
    "        \n",
    "    capital = data.get('股本合計', 1)\n",
    "    price = data.get('收盤價', 200)\n",
    "    now_price = price[:capital.index[-1]].iloc[-1]\n",
    "    now_capital = capital.iloc[-1]\n",
    "    Market_value =  now_capital * now_price / 10 * 1000\n",
    "\n",
    "    condition1 = (Market_value < 1e10)\n",
    "    select_stock = condition1\n",
    "    \n",
    "#==============================================================================================\n",
    "    \n",
    "    close = data.get('收盤價',200)\n",
    "\n",
    "    #定義5日,10日,20日的'均收盤價'移動平均線\n",
    "    close5  = close.rolling(5, min_periods=5).mean()\n",
    "    close10 = close.rolling(10, min_periods=10).mean()\n",
    "    close20 = close.rolling(20, min_periods=20).mean()\n",
    "    close60 = close.rolling(60, min_periods=60).mean()\n",
    "    \n",
    "    #定義選股策略\n",
    "    \n",
    "    #定義avgtrans(均線挪移)\n",
    "    A=  close10.iloc[-1] > close20.iloc[-1] #今天 10日均>20日均\n",
    "    B= close20.iloc[-1] > close60.iloc[-1]  #今天 20日均>60日均\n",
    "    C=  close10.iloc[-5] < close20.iloc[-5] #5天前10日均<20日均\n",
    "    D= close20.iloc[-5] < close60.iloc[-5]  #5天前20日均<60日均\n",
    "    \n",
    "    answer = A & B & C & D\n",
    "    \n",
    "    df = pd.DataFrame()\n",
    "    df['good'] = answer & select_stock\n",
    "    \n",
    "    return df['good'][df['good'] == 1].astype(bool)"
   ]
  },
  {
   "cell_type": "code",
   "execution_count": 4,
   "metadata": {},
   "outputs": [
    {
     "name": "stdout",
     "output_type": "stream",
     "text": [
      "estimate price according to 2019-01-25 00:00:00\n",
      "initial number of stock 0\n"
     ]
    },
    {
     "ename": "ZeroDivisionError",
     "evalue": "division by zero",
     "output_type": "error",
     "traceback": [
      "\u001b[0;31m---------------------------------------------------------------------------\u001b[0m",
      "\u001b[0;31mZeroDivisionError\u001b[0m                         Traceback (most recent call last)",
      "\u001b[0;32m<ipython-input-4-01bfb5a3b410>\u001b[0m in \u001b[0;36m<module>\u001b[0;34m()\u001b[0m\n\u001b[1;32m      9\u001b[0m \u001b[0;31m#而裝不下的就把比較貴而不是低價值的股票給剔除，其實蠻無理的。\u001b[0m\u001b[0;34m\u001b[0m\u001b[0;34m\u001b[0m\u001b[0m\n\u001b[1;32m     10\u001b[0m \u001b[0;31m# 用portfolio來幫忙計算，給定 1,000,000 元，依照今天收盤價，股票張數要如何分配\u001b[0m\u001b[0;34m\u001b[0m\u001b[0;34m\u001b[0m\u001b[0m\n\u001b[0;32m---> 11\u001b[0;31m \u001b[0mtotal_invest_money\u001b[0m \u001b[0;34m=\u001b[0m \u001b[0mportfolio\u001b[0m\u001b[0;34m(\u001b[0m\u001b[0mstocks\u001b[0m\u001b[0;34m.\u001b[0m\u001b[0mindex\u001b[0m\u001b[0;34m,\u001b[0m \u001b[0;36m1000000\u001b[0m\u001b[0;34m,\u001b[0m \u001b[0mdata\u001b[0m\u001b[0;34m)\u001b[0m\u001b[0;34m\u001b[0m\u001b[0m\n\u001b[0m\u001b[1;32m     12\u001b[0m \u001b[0;34m\u001b[0m\u001b[0m\n\u001b[1;32m     13\u001b[0m \u001b[0;31m# 印出股票資訊\u001b[0m\u001b[0;34m\u001b[0m\u001b[0;34m\u001b[0m\u001b[0m\n",
      "\u001b[0;32m~/Desktop/Myfinlab/finlab/backtest.py\u001b[0m in \u001b[0;36mportfolio\u001b[0;34m(stock_list, money, data, lowest_fee, discount, add_cost)\u001b[0m\n\u001b[1;32m    145\u001b[0m \u001b[0;34m\u001b[0m\u001b[0m\n\u001b[1;32m    146\u001b[0m     \u001b[0mprint\u001b[0m\u001b[0;34m(\u001b[0m\u001b[0;34m'initial number of stock'\u001b[0m\u001b[0;34m,\u001b[0m \u001b[0mlen\u001b[0m\u001b[0;34m(\u001b[0m\u001b[0mstock_list\u001b[0m\u001b[0;34m)\u001b[0m\u001b[0;34m)\u001b[0m\u001b[0;34m\u001b[0m\u001b[0m\n\u001b[0;32m--> 147\u001b[0;31m     \u001b[0;32mwhile\u001b[0m \u001b[0;34m(\u001b[0m\u001b[0mmoney\u001b[0m \u001b[0;34m/\u001b[0m \u001b[0mlen\u001b[0m\u001b[0;34m(\u001b[0m\u001b[0mstock_list\u001b[0m\u001b[0;34m)\u001b[0m\u001b[0;34m)\u001b[0m \u001b[0;34m<\u001b[0m \u001b[0;34m(\u001b[0m\u001b[0mlowest_fee\u001b[0m \u001b[0;34m-\u001b[0m \u001b[0madd_cost\u001b[0m\u001b[0;34m)\u001b[0m \u001b[0;34m*\u001b[0m \u001b[0;36m1000\u001b[0m \u001b[0;34m/\u001b[0m \u001b[0;36m1.425\u001b[0m \u001b[0;34m/\u001b[0m \u001b[0mdiscount\u001b[0m\u001b[0;34m:\u001b[0m\u001b[0;34m\u001b[0m\u001b[0m\n\u001b[0m\u001b[1;32m    148\u001b[0m         \u001b[0mstock_list\u001b[0m \u001b[0;34m=\u001b[0m \u001b[0mstock_list\u001b[0m\u001b[0;34m[\u001b[0m\u001b[0mstock_list\u001b[0m \u001b[0;34m!=\u001b[0m \u001b[0mstock_list\u001b[0m\u001b[0;34m.\u001b[0m\u001b[0mmax\u001b[0m\u001b[0;34m(\u001b[0m\u001b[0;34m)\u001b[0m\u001b[0;34m]\u001b[0m\u001b[0;34m\u001b[0m\u001b[0m\n\u001b[1;32m    149\u001b[0m     \u001b[0mprint\u001b[0m\u001b[0;34m(\u001b[0m\u001b[0;34m'after considering fee'\u001b[0m\u001b[0;34m,\u001b[0m \u001b[0mlen\u001b[0m\u001b[0;34m(\u001b[0m\u001b[0mstock_list\u001b[0m\u001b[0;34m)\u001b[0m\u001b[0;34m)\u001b[0m\u001b[0;34m\u001b[0m\u001b[0m\n",
      "\u001b[0;31mZeroDivisionError\u001b[0m: division by zero"
     ]
    }
   ],
   "source": [
    "from finlab.backtest import portfolio\n",
    "from finlab.data import Data\n",
    "\n",
    "data = Data()\n",
    "\n",
    "# 利用 mystrategy 來產生股票清單 stocks\n",
    "stocks = strategy(data)\n",
    "#這樣的投資分配很無聊，因為只是利用手頭上的資金盡可能分配到有的股票，就好像一艘船載滿了人，拼命要拿一個自己有的容器去裝。\n",
    "#而裝不下的就把比較貴而不是低價值的股票給剔除，其實蠻無理的。\n",
    "# 用portfolio來幫忙計算，給定 1,000,000 元，依照今天收盤價，股票張數要如何分配\n",
    "total_invest_money = portfolio(stocks.index, 1000000, data)\n",
    "\n",
    "# 印出股票資訊\n",
    "print('---------------')\n",
    "print('|  portfolio  |')\n",
    "print('---------------')\n",
    "print(stocks.index)\n",
    "print('total cost')\n",
    "print(total_invest_money)\n",
    "print('----------selects-------------')\n",
    "intselects = []\n",
    "selects = []\n",
    "print(\"-------for system input-----------\")\n",
    "for stock in list(stocks.index):\n",
    "    intselects.append(int(stock))\n",
    "print(intselects)\n",
    "print('-------For Markoz potfolio input---------')\n",
    "for stock in list(stocks.index):\n",
    "    selects.append((stock))\n",
    "print(selects)"
   ]
  }
 ],
 "metadata": {
  "kernelspec": {
   "display_name": "Python 3",
   "language": "python",
   "name": "python3"
  },
  "language_info": {
   "codemirror_mode": {
    "name": "ipython",
    "version": 3
   },
   "file_extension": ".py",
   "mimetype": "text/x-python",
   "name": "python",
   "nbconvert_exporter": "python",
   "pygments_lexer": "ipython3",
   "version": "3.6.5"
  }
 },
 "nbformat": 4,
 "nbformat_minor": 2
}
