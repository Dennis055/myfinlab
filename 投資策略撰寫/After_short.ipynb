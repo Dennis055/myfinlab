{
 "cells": [
  {
   "cell_type": "code",
   "execution_count": 7,
   "metadata": {},
   "outputs": [
    {
     "name": "stdout",
     "output_type": "stream",
     "text": [
      "Data: **ERROR: cannot find 6634 in database\n"
     ]
    },
    {
     "data": {
      "text/html": [
       "<div>\n",
       "<style scoped>\n",
       "    .dataframe tbody tr th:only-of-type {\n",
       "        vertical-align: middle;\n",
       "    }\n",
       "\n",
       "    .dataframe tbody tr th {\n",
       "        vertical-align: top;\n",
       "    }\n",
       "\n",
       "    .dataframe thead th {\n",
       "        text-align: right;\n",
       "    }\n",
       "</style>\n",
       "<table border=\"1\" class=\"dataframe\">\n",
       "  <thead>\n",
       "    <tr style=\"text-align: right;\">\n",
       "      <th></th>\n",
       "    </tr>\n",
       "  </thead>\n",
       "  <tbody>\n",
       "  </tbody>\n",
       "</table>\n",
       "</div>"
      ],
      "text/plain": [
       "Empty DataFrame\n",
       "Columns: []\n",
       "Index: []"
      ]
     },
     "execution_count": 7,
     "metadata": {},
     "output_type": "execute_result"
    }
   ],
   "source": [
    "from OTClab.finlab import  data\n",
    "data = data.Data()\n",
    "data.get('6634',50).head()"
   ]
  },
  {
   "cell_type": "code",
   "execution_count": 1,
   "metadata": {},
   "outputs": [],
   "source": [
    "from finlab.data import Data"
   ]
  },
  {
   "cell_type": "code",
   "execution_count": 21,
   "metadata": {},
   "outputs": [],
   "source": [
    "import requests\n",
    "from io import StringIO\n",
    "import pandas as pd\n",
    "import numpy as np\n",
    "datestr = '20181017'\n",
    "r = requests.post('http://www.twse.com.tw/exchangeReport/MI_INDEX?response=csv&date=' + datestr + '&type=ALL')\n",
    "df = pd.read_csv(StringIO(\"\\n\".join([i.translate({ord(c): None for c in ' '}) \n",
    "                                     for i in r.text.split('\\n') \n",
    "                                     if len(i.split('\",')) == 17 and i[0] != '='])), header=0)"
   ]
  },
  {
   "cell_type": "code",
   "execution_count": 23,
   "metadata": {},
   "outputs": [],
   "source": [
    "df.index = df['證券名稱']\n",
    "for i,v in df.items():\n",
    "    df[i] = pd.to_numeric(df[i], errors='coerce')"
   ]
  },
  {
   "cell_type": "code",
   "execution_count": 24,
   "metadata": {},
   "outputs": [
    {
     "data": {
      "text/plain": [
       "證券名稱\n",
       "世紀鋼      1.000000\n",
       "華建       1.000000\n",
       "鼎固-KY    1.000000\n",
       "麗嬰房      1.000000\n",
       "三商       1.000000\n",
       "遠百       1.000000\n",
       "雲品       1.000000\n",
       "華園       1.000000\n",
       "宏璟       1.000000\n",
       "康控-KY    1.000000\n",
       "普安       1.000000\n",
       "華新科      1.000000\n",
       "立隆電      1.000000\n",
       "良得電      1.000000\n",
       "凌群       1.000000\n",
       "京元電子     1.000000\n",
       "同開       1.000000\n",
       "禾伸堂      1.000000\n",
       "偉訓       1.000000\n",
       "晶技       1.000000\n",
       "三發地產     1.000000\n",
       "華晶科      1.000000\n",
       "景碩       1.000000\n",
       "誠創       1.000000\n",
       "艾笛森      1.000000\n",
       "宏致       1.000000\n",
       "健策       1.000000\n",
       "圓展       1.000000\n",
       "隆達       1.000000\n",
       "康聯-KY    1.000000\n",
       "           ...   \n",
       "宜進       0.833333\n",
       "光鼎       0.833333\n",
       "鄉林       0.833333\n",
       "工信       0.833333\n",
       "聚陽       0.833333\n",
       "台塑       0.833333\n",
       "廣華-KY    0.833333\n",
       "承啟       0.833333\n",
       "日勝化      0.833333\n",
       "盛群       0.833333\n",
       "華邦電      0.833333\n",
       "晟鈦       0.833333\n",
       "東哥遊艇     0.827586\n",
       "辛耘       0.823529\n",
       "福懋科      0.823529\n",
       "致伸       0.821429\n",
       "鎧勝-KY    0.821429\n",
       "聯德       0.820513\n",
       "晶豪科      0.818182\n",
       "台耀       0.818182\n",
       "嘉威       0.815789\n",
       "矽格       0.809524\n",
       "達方       0.807692\n",
       "鋼聯       0.806452\n",
       "大毅       0.805556\n",
       "凌陽       0.800000\n",
       "東森       0.800000\n",
       "益航       0.800000\n",
       "天仁       0.800000\n",
       "光磊       0.800000\n",
       "Length: 224, dtype: float64"
      ]
     },
     "execution_count": 24,
     "metadata": {},
     "output_type": "execute_result"
    }
   ],
   "source": [
    "strongIndex = (df['收盤價'] - df['最低價']) / (df['最高價'] - df['最低價'])\n",
    "strongIndex[(strongIndex > 0.8) & ((df['最高價'] / df['最低價'] > 1.02))].sort_values(ascending=False)"
   ]
  }
 ],
 "metadata": {
  "kernelspec": {
   "display_name": "Python 3",
   "language": "python",
   "name": "python3"
  },
  "language_info": {
   "codemirror_mode": {
    "name": "ipython",
    "version": 3
   },
   "file_extension": ".py",
   "mimetype": "text/x-python",
   "name": "python",
   "nbconvert_exporter": "python",
   "pygments_lexer": "ipython3",
   "version": "3.6.5"
  }
 },
 "nbformat": 4,
 "nbformat_minor": 2
}
