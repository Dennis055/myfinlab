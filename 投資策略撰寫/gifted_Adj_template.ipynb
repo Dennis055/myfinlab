{
 "cells": [
  {
   "cell_type": "code",
   "execution_count": 1,
   "metadata": {},
   "outputs": [
    {
     "data": {
      "text/plain": [
       "165337820460.0"
      ]
     },
     "execution_count": 1,
     "metadata": {},
     "output_type": "execute_result"
    }
   ],
   "source": [
    "from finlab.data import Data\n",
    "data = Data()\n",
    "# 先拿出計算市值需要用到的財務數據\n",
    "\n",
    "股本 = data.get('股本合計', 1)\n",
    "price = data.get('收盤價', 100)\n",
    "# ----------- #\n",
    "# 找出當天股價  #\n",
    "# ----------- #\n",
    "\n",
    "# 新版（較簡單）：將頻率為「天」的股價，reindex 成每「季」\n",
    "# method='fill'是說，假如公佈財報那天沒有股價，則以時間往前最接近的那天為主。\n",
    "\n",
    "#當天股價 = price.reindex(股本.index, method='ffill').iloc[-1]\n",
    "當天股價 =price.iloc[-1]\n",
    "\n",
    "# 原本（較難）：當天股價 = price.loc[:股本.index[0]].iloc[-1]\n",
    "\n",
    "# ----------- #\n",
    "# 找出當天股本  #\n",
    "# ----------- #\n",
    "\n",
    "當天股本 = 股本.iloc[-1]\n",
    "\n",
    "# -----------  #\n",
    "# 計算市值      #\n",
    "# -----------  #\n",
    "\n",
    "# 市值 = 總股數 * 股價\n",
    "#     = （股本 * 1000） / 10 * 股價\n",
    "\n",
    "市值 = 當天股本 * 1000 / 10 * 當天股價\n",
    "市值['1101']"
   ]
  },
  {
   "cell_type": "code",
   "execution_count": 2,
   "metadata": {},
   "outputs": [
    {
     "data": {
      "text/plain": [
       "count    903.000000\n",
       "mean            inf\n",
       "std             NaN\n",
       "min        0.103960\n",
       "25%        1.715987\n",
       "50%        2.936388\n",
       "75%        5.472453\n",
       "max             inf\n",
       "dtype: float64"
      ]
     },
     "execution_count": 2,
     "metadata": {},
     "output_type": "execute_result"
    }
   ],
   "source": [
    "import pandas as pd\n",
    "\n",
    "# 將每季累計的財務數據，轉換成單季\n",
    "def toSeasonal(df):\n",
    "    season4 = df[df.index.month == 3]\n",
    "    season1 = df[df.index.month == 5]\n",
    "    season2 = df[df.index.month == 8]\n",
    "    season3 = df[df.index.month == 11]\n",
    "\n",
    "    season1.index = season1.index.year\n",
    "    season2.index = season2.index.year\n",
    "    season3.index = season3.index.year\n",
    "    season4.index = season4.index.year - 1\n",
    "\n",
    "    newseason1 = season1\n",
    "    newseason2 = season2 - season1.reindex_like(season2)\n",
    "    newseason3 = season3 - season2.reindex_like(season3)\n",
    "    newseason4 = season4 - season3.reindex_like(season4)\n",
    "\n",
    "    newseason1.index = pd.to_datetime(newseason1.index.astype(str) + '-05-15')\n",
    "    newseason2.index = pd.to_datetime(newseason2.index.astype(str) + '-08-14')\n",
    "    newseason3.index = pd.to_datetime(newseason3.index.astype(str) + '-11-14')\n",
    "    newseason4.index = pd.to_datetime((newseason4.index + 1).astype(str) + '-03-31')\n",
    "\n",
    "    return newseason1.append(newseason2).append(newseason3).append(newseason4).sort_index()\n",
    "    \n",
    "# 計算自由現金流 = 營業活動之淨現金流入 - 投資活動之淨現金流出\n",
    "投資現金流 = toSeasonal(data.get('投資活動之淨現金流入（流出）', 8))\n",
    "營業現金流 = toSeasonal(data.get('營業活動之淨現金流入（流出）', 8))\n",
    "自由現金流 = (投資現金流 + 營業現金流).iloc[-4:].sum()\n",
    "自由現金流.describe()\n",
    "\n",
    "稅後淨利 = data.get('本期淨利（淨損）', 1)\n",
    "\n",
    "# 修正：因為有些股東權益的名稱叫作「權益總計」有些叫作「權益總額」，所以要先將這兩個dataframe合併起來喔！\n",
    "權益總計 = data.get('權益總計', 1)\n",
    "權益總額 = data.get('權益總額', 1)\n",
    "\n",
    "# 把它們合併起來（將「權益總計」為NaN的部分填上「權益總額」）\n",
    "權益總計.fillna(權益總額, inplace=True)\n",
    "\n",
    "股東權益報酬率 = 稅後淨利.iloc[-1] / 權益總計.iloc[-1]\n",
    "股東權益報酬率.describe()\n",
    "\n",
    "\n",
    "營業利益 = data.get('營業利益（損失）', 5)\n",
    "營業利益成長率 = (營業利益.iloc[-1] / 營業利益.iloc[-5] - 1) * 100\n",
    "營業利益成長率.describe()\n",
    "\n",
    "%matplotlib inline\n",
    "當月營收 = data.get('當月營收', 4) * 1000\n",
    "當季營收 = 當月營收.iloc[-4:].sum() # 取近4個月營收總和，當作一季的月營收（4也可以改變）\n",
    "市值營收比 = 市值 / 當季營收\n",
    "市值營收比.describe()"
   ]
  },
  {
   "cell_type": "code",
   "execution_count": 3,
   "metadata": {},
   "outputs": [],
   "source": [
    "condition1 = (市值 < 10000000000)\n",
    "condition2 = 自由現金流 > 0\n",
    "condition3 = 股東權益報酬率 > 0\n",
    "condition4 = 營業利益成長率 > 0\n",
    "condition5 = 市值營收比 < 5"
   ]
  },
  {
   "cell_type": "code",
   "execution_count": 4,
   "metadata": {},
   "outputs": [],
   "source": [
    "# current\n",
    "流動資產 = data.get('流動資產合計',5)\n",
    "流動負債 = data.get('流動負債合計',5)\n",
    "current_ratio = 流動資產/流動負債\n",
    "# liability\n",
    "long_liability = data.get('非流動負債合計',5)\n",
    "long_liability\n",
    "\n",
    "#capital\n",
    "stocks = data.get('普通股股本',5)\n",
    "#inventory\n",
    "control_season = 2\n",
    "inventory = data.get('存貨合計',6)\n",
    "asset = data.get('資產總計',6)\n",
    "no_turnover = inventory/asset\n",
    "turnover_ratio = 1 - no_turnover\n",
    "turnover_growth_rate = (turnover_ratio.iloc[-control_season] /turnover_ratio.iloc[-control_season-4])"
   ]
  },
  {
   "cell_type": "markdown",
   "metadata": {},
   "source": [
    "目前擁有的財務數據：\n",
    "存貨周轉成長率\n",
    "流動比率\n",
    "市值營收比\n",
    "營業利益成長率\n",
    "股東權益報酬率\n",
    "稅後淨利\n",
    "自由現金流"
   ]
  },
  {
   "cell_type": "code",
   "execution_count": 5,
   "metadata": {},
   "outputs": [
    {
     "data": {
      "text/plain": [
       "stock_id\n",
       "1413    True\n",
       "1441    True\n",
       "1558    True\n",
       "2338    True\n",
       "2342    True\n",
       "2397    True\n",
       "2464    True\n",
       "2614    True\n",
       "3090    True\n",
       "3167    True\n",
       "4536    True\n",
       "4764    True\n",
       "4919    True\n",
       "4999    True\n",
       "5525    True\n",
       "6206    True\n",
       "8996    True\n",
       "dtype: bool"
      ]
     },
     "execution_count": 5,
     "metadata": {},
     "output_type": "execute_result"
    }
   ],
   "source": [
    "c1 = (市值 < 10000000000)\n",
    "c2 = 自由現金流 > 0\n",
    "c3 = 股東權益報酬率 > 0.06\n",
    "c4 = 營業利益成長率 > 0.1\n",
    "c5 = 市值營收比 < 5\n",
    "selects = c1 & c2 & c3 &c4 & c5\n",
    "selects[selects]"
   ]
  },
  {
   "cell_type": "code",
   "execution_count": 6,
   "metadata": {},
   "outputs": [
    {
     "data": {
      "text/plain": [
       "Index(['1413', '1441', '1558', '2338', '2342', '2397', '2464', '2614', '3090',\n",
       "       '3167', '4536', '4764', '4919', '4999', '5525', '6206', '8996'],\n",
       "      dtype='object', name='stock_id')"
      ]
     },
     "execution_count": 6,
     "metadata": {},
     "output_type": "execute_result"
    }
   ],
   "source": [
    "selects[selects].index"
   ]
  }
 ],
 "metadata": {
  "kernelspec": {
   "display_name": "Python 3",
   "language": "python",
   "name": "python3"
  },
  "language_info": {
   "codemirror_mode": {
    "name": "ipython",
    "version": 3
   },
   "file_extension": ".py",
   "mimetype": "text/x-python",
   "name": "python",
   "nbconvert_exporter": "python",
   "pygments_lexer": "ipython3",
   "version": "3.6.5"
  }
 },
 "nbformat": 4,
 "nbformat_minor": 2
}
